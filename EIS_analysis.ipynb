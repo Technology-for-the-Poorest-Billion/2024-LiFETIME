{
 "cells": [
  {
   "cell_type": "markdown",
   "metadata": {},
   "source": [
    "Take data, remove zeros "
   ]
  },
  {
   "cell_type": "code",
   "execution_count": null,
   "metadata": {},
   "outputs": [],
   "source": [
    "import pandas as pd\n",
    "\n",
    "def process_data(file_path):\n",
    "    # Read the data into a pandas DataFrame\n",
    "    df = pd.read_csv(file_path, delim_whitespace=True, header=None)\n",
    "\n",
    "    # Filter out rows where all elements are zero\n",
    "    # The DataFrame will have numeric values, so comparing directly with 0 is safe\n",
    "    df_filtered = df[(df != 0).any(axis=1)]\n",
    "\n",
    "    # Write the filtered data to a new text file\n",
    "    df_filtered.to_csv('filtered_data.txt', sep='\\t', index=False, header=False)\n",
    "\n",
    "    print(\"Data processing complete. Filtered data written to 'filtered_data.txt'.\")\n",
    "\n",
    "# Replace 'your_data_file.txt' with the path to your actual data file\n",
    "process_data('your_data_file.txt')\n"
   ]
  }
 ],
 "metadata": {
  "kernelspec": {
   "display_name": "Python 3",
   "language": "python",
   "name": "python3"
  },
  "language_info": {
   "name": "python",
   "version": "3.12.3"
  }
 },
 "nbformat": 4,
 "nbformat_minor": 2
}
