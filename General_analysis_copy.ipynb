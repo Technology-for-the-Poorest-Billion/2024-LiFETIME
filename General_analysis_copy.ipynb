{
 "cells": [
  {
   "cell_type": "markdown",
   "metadata": {},
   "source": [
    "### Notebook Guide\n",
    "- todo"
   ]
  },
  {
   "cell_type": "markdown",
   "metadata": {},
   "source": [
    "### Prerequisites"
   ]
  },
  {
   "cell_type": "code",
   "execution_count": 5,
   "metadata": {},
   "outputs": [
    {
     "name": "stdout",
     "output_type": "stream",
     "text": [
      "Defaulting to user installation because normal site-packages is not writeable\n",
      "Requirement already satisfied: pandas>=2.1.4 in c:\\programdata\\anaconda3\\lib\\site-packages (from -r requirements.txt (line 1)) (2.1.4)\n",
      "Requirement already satisfied: plotly>=5.9.0 in c:\\programdata\\anaconda3\\lib\\site-packages (from -r requirements.txt (line 2)) (5.9.0)\n",
      "Requirement already satisfied: numpy>=1.26.4 in c:\\programdata\\anaconda3\\lib\\site-packages (from -r requirements.txt (line 3)) (1.26.4)\n",
      "Requirement already satisfied: kaleido>=0.2.1 in c:\\users\\josep\\appdata\\roaming\\python\\python311\\site-packages (from -r requirements.txt (line 4)) (0.2.1)\n",
      "Requirement already satisfied: python-dateutil>=2.8.2 in c:\\programdata\\anaconda3\\lib\\site-packages (from pandas>=2.1.4->-r requirements.txt (line 1)) (2.8.2)\n",
      "Requirement already satisfied: pytz>=2020.1 in c:\\programdata\\anaconda3\\lib\\site-packages (from pandas>=2.1.4->-r requirements.txt (line 1)) (2023.3.post1)\n",
      "Requirement already satisfied: tzdata>=2022.1 in c:\\programdata\\anaconda3\\lib\\site-packages (from pandas>=2.1.4->-r requirements.txt (line 1)) (2023.3)\n",
      "Requirement already satisfied: tenacity>=6.2.0 in c:\\programdata\\anaconda3\\lib\\site-packages (from plotly>=5.9.0->-r requirements.txt (line 2)) (8.2.2)\n",
      "Requirement already satisfied: six>=1.5 in c:\\programdata\\anaconda3\\lib\\site-packages (from python-dateutil>=2.8.2->pandas>=2.1.4->-r requirements.txt (line 1)) (1.16.0)\n"
     ]
    }
   ],
   "source": [
    "# run if you're unsure if your packages are up to date.\n",
    "import sys\n",
    "!{sys.executable} -m pip install -r requirements.txt"
   ]
  },
  {
   "cell_type": "code",
   "execution_count": 1,
   "metadata": {},
   "outputs": [],
   "source": [
    "import pandas as pd\n",
    "import os\n",
    "import glob\n",
    "import numpy as np\n",
    "import plotly.graph_objects as go\n",
    "import plotly.express as px\n",
    "from plotly.subplots import make_subplots"
   ]
  },
  {
   "cell_type": "markdown",
   "metadata": {},
   "source": [
    "### Import Files\n",
    "Files are standardised as per /Data/README.txt\n",
    "\n",
    "/Data/Cycling/(Cell)/AX\\_(Cell Type)(Cell ID)\\_(Day)(Month)\\_CAX\n",
    "\n",
    "Cell Type = 2 chars.\n",
    "\n",
    "Cell ID  = 3 chars"
   ]
  },
  {
   "cell_type": "code",
   "execution_count": 2,
   "metadata": {},
   "outputs": [
    {
     "name": "stdout",
     "output_type": "stream",
     "text": [
      "Successfully imported test NX001_21-08-23 with shape (269049, 5)\n",
      "Successfully imported test NX001_31-07-23 with shape (120655, 5)\n",
      "Successfully imported test NX002_21-08-23 with shape (268652, 5)\n",
      "Successfully imported test NX002_31-07-23 with shape (120808, 5)\n",
      "Successfully imported test NX006_21-08-23 with shape (207146, 5)\n",
      "Successfully imported test NX006_31-07-23 with shape (120806, 5)\n",
      "Successfully imported test RS001_21-08-23 with shape (228545, 5)\n",
      "Successfully imported test RS001_31-07-23 with shape (120465, 5)\n",
      "Successfully imported test RS006_21-08-23 with shape (229161, 5)\n",
      "Successfully imported test RS006_31-07-23 with shape (120383, 5)\n",
      "Successfully imported test SG003_07-02-23 with shape (693003, 5)\n",
      "Successfully imported test SG004_07-02-23 with shape (227678, 5)\n",
      "Successfully imported test SG007_07-02-24 with shape (645535, 5)\n",
      "Successfully imported test SG007_21-08-23 with shape (460741, 5)\n",
      "Successfully imported test SG007_31-07-23 with shape (115995, 5)\n",
      "Successfully imported test SG007_21-08-23 with shape (460741, 5)\n",
      "Successfully imported test SG008_31-07-23 with shape (116828, 5)\n",
      "Successfully imported test SG009_07-02-24 with shape (606579, 5)\n",
      "Successfully imported test SG009_21-08-23 with shape (457872, 5)\n",
      "Successfully imported test SG009_31-07-23 with shape (114977, 5)\n",
      "Done\n"
     ]
    }
   ],
   "source": [
    "data_directory = 'Data/Cycling/'\n",
    "files = glob.iglob(data_directory +'**/*.txt', recursive=True)\n",
    "# this will work provided you keep the data format standardised...\n",
    "Cell_Tests = dict()\n",
    "\n",
    "def retrieve_files():\n",
    "    dataset = dict()\n",
    "    for f in files:\n",
    "        columns = ['time/s', 'Ecell/V', 'I/mA', 'Temperature/°C', 'cycle number']\n",
    "        temp_df = pd.read_csv(f, sep='\\t', usecols=columns, encoding='ISO-8859-1')\n",
    "        dataset[os.path.basename(f)[3:17]] = temp_df\n",
    "        print(f'Successfully imported test {os.path.basename(f)[3:17]} with shape {temp_df.shape}')\n",
    "    return dataset\n",
    "\n",
    "Cell_Tests = retrieve_files()\n",
    "print(\"Done\")"
   ]
  },
  {
   "cell_type": "markdown",
   "metadata": {},
   "source": [
    "### Utility Functions"
   ]
  },
  {
   "cell_type": "code",
   "execution_count": 3,
   "metadata": {},
   "outputs": [],
   "source": [
    "def add_dates(dataset):\n",
    "    for key, df in dataset.items():\n",
    "        df['date'] = pd.to_datetime(key[6:])\n",
    "    return dataset\n",
    "\n",
    "def filter_singlecell(dataset, cell_partial_key):\n",
    "    \"\"\"\n",
    "    Returns a subset of the dataset containing only the cell specified.\n",
    "    Args:\n",
    "    dataset (dict): The dataset to filter.\n",
    "    cell_partial_key (str): The partial key (cell name) to match.\n",
    "    \"\"\"\n",
    "    filtered_dataset = dict()\n",
    "    for key, v in dataset.items():\n",
    "        if cell_partial_key in key:\n",
    "            filtered_dataset[key] = v\n",
    "    return filtered_dataset\n",
    "\n",
    "def combine_tests(dataset):\n",
    "    \"\"\"\n",
    "    correct cycle number\n",
    "    \"\"\"\n",
    "    sorted_keys = sorted(dataset.keys(), key=lambda x: pd.to_datetime(x[6:])) # there's also probably a better way of doing this, but since the codes contain the date might as well do it this way.\n",
    "    dataframes_temp = [] # there's a better way of doing this that avoids creating an extra list, but this is easy..\n",
    "    cumulative_time = 0\n",
    "    cumulative_cycles = 0\n",
    "    for key in sorted_keys:\n",
    "        df = dataset[key]\n",
    "        df['time/s'] = df['time/s'] + cumulative_time\n",
    "        df['cycle number'] = df['cycle number'] + cumulative_cycles\n",
    "        cumulative_time = df['time/s'].max()\n",
    "        cumulative_cycles = df['cycle number'].max()\n",
    "        dataframes_temp.append(df)\n",
    "    combined_df = pd.concat(dataframes_temp, ignore_index=True)\n",
    "    return combined_df\n",
    "\n",
    "def add_capacity(df):\n",
    "    \"\"\"\n",
    "    Requires some work on the filtering side.\n",
    "    \"\"\"\n",
    "    grouped = df.groupby('cycle number')\n",
    "    capacity = []\n",
    "    for cycle, group in grouped: # I'm kind of amazed that this works....\n",
    "        # How does Python know that by specifying (group 1), (group 2) that you want to group by the unique value in the table?\n",
    "        # Doing something like this in another framework would require a whole search index with .unique() or iterating by cycle number values.\n",
    "        # Having to debug this to know how/why/what it is doing is why I hate implicit programming.\n",
    "        group = group[group['I/mA'] < -500] # filter down the group to just the times which are discharging\n",
    "        times = group['time/s'].values\n",
    "        currents = group['I/mA'].values\n",
    "        voltage = group['Ecell/V'].values\n",
    "        # need to filter to just the charge stage\n",
    "        capacity_mAh = -np.trapz(currents, times)/3600.0 # this uses the composite trapezoidal rule, which is apparently more accurate than a simple trapezoidal.\n",
    "        capacity_mWh = -np.trapz(currents*voltage, times)/3600.0 # check if this is bugged possibly what was causing the massive datasets\n",
    "        capacity.append((cycle, capacity_mAh, capacity_mWh))\n",
    "    capacity_df = pd.DataFrame(capacity, columns=['cycle number', 'capacity/mAh', 'capacity/mWh'])\n",
    "    df = df.merge(capacity_df, on='cycle number', how='left')\n",
    "    return df\n",
    "\n",
    "def add_capacity_dataset(dataset):\n",
    "    for key, df in dataset.items():\n",
    "        df = add_capacity(df)\n",
    "        dataset[key] = df\n",
    "    return dataset\n"
   ]
  },
  {
   "cell_type": "markdown",
   "metadata": {},
   "source": [
    "### Plotting Functions"
   ]
  },
  {
   "cell_type": "code",
   "execution_count": 4,
   "metadata": {},
   "outputs": [],
   "source": [
    "# this could be made less redundant and more efficient.\n",
    "def plot_capacity_allcycles_tohtml(cycle_data, showfig=False):\n",
    "    fig = plot_capacity_allcycles(cycle_data, showfig)\n",
    "    fig.write_html(data_directory+\"/Output/\"+cycle_data.name+\"_capacity.html\")\n",
    "\n",
    "def plot_capacity_allcycles_tosvg(cycle_data, showfig=False):\n",
    "    # DO NOT USE ON LARGE DATASETS\n",
    "    fig = plot_capacity_allcycles(cycle_data, showfig)\n",
    "    fig.write_image(data_directory+\"/Output/\"+cycle_data.name+\"_capacity.svg\")\n",
    "\n",
    "def plot_capacity_allcycles_topdf(cycle_data, showfig=False):\n",
    "    # DO NOT USE ON LARGE DATASETS\n",
    "    fig = plot_capacity_allcycles(cycle_data, showfig)\n",
    "    fig.write_image(data_directory+\"/Output/\"+cycle_data.name+\"_capacity.pdf\")\n",
    "\n",
    "def plot_capacity_allcycles_topng(cycle_data, _width, _height, showfig=False):\n",
    "    fig = plot_capacity_allcycles(cycle_data, showfig)\n",
    "    fig.write_image(data_directory+\"/Output/\"+cycle_data.name+\"_capacity.png\", width=_width, height=_height)\n",
    "\n",
    "def plot_capacity_allcycles(cycle_data, showfig=True):\n",
    "    fig = px.line(cycle_data, x=cycle_data['cycle number'], y=cycle_data['capacity/mAh'], color='date')\n",
    "    if(showfig): fig.show()\n",
    "    return fig\n",
    "\n",
    "def plot_cell_voltage(cycle_data):\n",
    "    fig = px.line(cycle_data, x=cycle_data['time/s'], y=cycle_data['Ecell/V'], color='cycle number')\n",
    "    fig.update_xaxes(rangeslider_visible=True)\n",
    "    fig.show()\n",
    "\n",
    "def plot_cell_voltage_current(cycle_data, showfig=True):\n",
    "    fig_voltage = px.line(cycle_data, x=cycle_data['time/s'], y=cycle_data['Ecell/V'], color='cycle number')\n",
    "    fig = make_subplots(specs=[[{\"secondary_y\": True}]])\n",
    "    for trace in fig_voltage.data:\n",
    "        fig.add_trace(trace, secondary_y=False)\n",
    "\n",
    "    fig.add_trace(go.Line(x=cycle_data['time/s'], y=cycle_data['I/mA']*0.001, mode='lines', name='I/A'), secondary_y=True)\n",
    "    fig.update_xaxes(rangeslider_visible=True)\n",
    "    if(showfig): fig.show()\n",
    "    return fig\n",
    "\n",
    "def plot_cell_voltage_current_tohtml(cycle_data, showfig=False):\n",
    "    fig = plot_cell_voltage_current(cycle_data, showfig)\n",
    "    fig.write_html(data_directory+\"/Output/\"+cycle_data.name+\"_cycling.html\")"
   ]
  },
  {
   "cell_type": "code",
   "execution_count": 5,
   "metadata": {},
   "outputs": [],
   "source": [
    "# ONLY RUN ONCE!! CURRENTLY BUGGED WHEN RUNNING MULTIPLE TIMES\n",
    "Cell_Tests = add_dates(Cell_Tests)\n",
    "Cell_Tests = add_capacity_dataset(Cell_Tests)"
   ]
  },
  {
   "cell_type": "code",
   "execution_count": 6,
   "metadata": {},
   "outputs": [],
   "source": [
    "# Add calculated values if not already present in the dataset.\n",
    "# Have a think about whether this should be output to a separate processed folder or read from and sent back to the database.\n",
    "\n",
    "#print(Cell_Tests)\n",
    "SG009 = filter_singlecell(Cell_Tests, \"SG009\")\n",
    "SG009 = combine_tests(SG009)\n",
    "SG009.name = \"SG009\"\n",
    "#print(NX001)\n",
    "# fix bug where capcity column can duplicate\n",
    "# check this influences the original array"
   ]
  },
  {
   "cell_type": "code",
   "execution_count": 11,
   "metadata": {},
   "outputs": [
    {
     "name": "stderr",
     "output_type": "stream",
     "text": [
      "c:\\ProgramData\\anaconda3\\Lib\\site-packages\\plotly\\graph_objs\\_deprecations.py:378: DeprecationWarning:\n",
      "\n",
      "plotly.graph_objs.Line is deprecated.\n",
      "Please replace it with one of the following more specific types\n",
      "  - plotly.graph_objs.scatter.Line\n",
      "  - plotly.graph_objs.layout.shape.Line\n",
      "  - etc.\n",
      "\n",
      "\n"
     ]
    }
   ],
   "source": [
    "plot_capacity_allcycles_tohtml(SG009)\n",
    "plot_cell_voltage_current_tohtml(SG009)\n",
    "#plot_cell_voltage_current(SG009)\n",
    "\n",
    "# need to split the data to only plot 1/10th of points\n"
   ]
  },
  {
   "cell_type": "code",
   "execution_count": 8,
   "metadata": {},
   "outputs": [],
   "source": [
    "SG008 = filter_singlecell(Cell_Tests, \"SG008\")\n",
    "SG008 = combine_tests(SG008)\n",
    "SG008.name = \"SG008\"\n",
    "plot_capacity_allcycles_tohtml(SG008)"
   ]
  },
  {
   "cell_type": "markdown",
   "metadata": {},
   "source": [
    "## Plotting capacity against cycles"
   ]
  },
  {
   "cell_type": "markdown",
   "metadata": {},
   "source": [
    "# save this for later when plotting."
   ]
  },
  {
   "cell_type": "code",
   "execution_count": 9,
   "metadata": {},
   "outputs": [],
   "source": [
    "#Don't use these fns... too slow\n",
    "\n",
    "def resample(df, time_column, rule):\n",
    "    df[time_column] = pd.to_datetime(df[time_column], unit='s')\n",
    "    return df.resample(rule, on=time_column).mean().reset_index()\n",
    "\n",
    "def plot_all_cycles(df, battery_name):\n",
    "    #sample the data as otherwise it takes forever to plot\n",
    "\n",
    "    df_sampled = resample(df, 'time/s', '30s')\n",
    "    fig = go.Figure()\n",
    "\n",
    "    fig.add_trace(go.Scatter(x=df['time/s'], y=df_sampled['Ecell/V'], mode='lines', name='Ecell/V'))\n",
    "    fig.add_trace(go.Scatter(x=df['time/s'], y=df_sampled['I/mA'], mode='lines', name='I/mA'))\n",
    "    fig.add_trace(go.Scatter(x=df['time/s'], y=df_sampled['Temperature/°C'], mode='lines', name='Temperature/°C'))\n",
    "\n",
    "    cycles = df['cycle number'].unique()\n",
    "\n",
    "    # Add shaded areas for each cycle\n",
    "    for cycle in cycles:\n",
    "        cycle_data = df[df['cycle number'] == cycle]\n",
    "        cycle_start = cycle_data['time/s'].min()\n",
    "        cycle_end = cycle_data['time/s'].max()\n",
    "\n",
    "        fig.add_shape(\n",
    "            type='rect',\n",
    "            x0=cycle_start,\n",
    "            x1=cycle_end,\n",
    "            y0=0,\n",
    "            y1=1, \n",
    "            yref='paper',\n",
    "            fillcolor='LightSlateGrey' if cycle % 2 == 0 else 'LightSkyBlue',\n",
    "            opacity=0.3,\n",
    "            line_width=0,\n",
    "        )\n",
    "\n",
    "    # Customize layout\n",
    "    fig.update_layout(\n",
    "        title=f'Battery {battery_name}',\n",
    "        xaxis_title='Time (s)',\n",
    "        yaxis_title='Value',\n",
    "        template='plotly_white',\n",
    "        shapes=[],\n",
    "    )\n",
    "\n",
    "    # Show the plot\n",
    "    fig.show()"
   ]
  },
  {
   "cell_type": "markdown",
   "metadata": {},
   "source": [
    "# Archive"
   ]
  },
  {
   "cell_type": "code",
   "execution_count": 10,
   "metadata": {},
   "outputs": [],
   "source": [
    "#Function to plot specified cycle\n",
    "def plot_cycle(df, battery_name, cycle_number, show_temp):\n",
    "    \n",
    "    cycle_data = df[(df['cycle number'] == cycle_number)]\n",
    "\n",
    "    fig = make_subplots(specs=[[{\"secondary_y\": True}]])\n",
    "    fig.add_trace(go.Scatter(x=cycle_data['time/s'], y=cycle_data['Ecell/V'], mode='lines', name='Ecell/V'), secondary_y=False)\n",
    "    fig.add_trace(go.Scatter(x=cycle_data['time/s'], y=cycle_data['I/mA']*0.001, mode='lines', name='I/A'), secondary_y=True)\n",
    "    if show_temp == True:\n",
    "        fig.add_trace(go.Scatter(x=cycle_data['time/s'], y=cycle_data['Temperature/°C'], mode='lines', name='Temperature/°C'))\n",
    "\n",
    "    fig.update_layout(title=f'Cycle {cycle_number} for Battery {battery_name}', xaxis_title='Time (s)', yaxis_title='Value')\n",
    "    fig.update_yaxes(title_text=\"Cell Voltage (V)\", secondary_y=False)\n",
    "    fig.update_yaxes(title_text=\"Current (A)\", secondary_y=True)\n",
    "    fig.show()\n",
    "\n",
    "#Plot the specified cycle and the two cycles that come after it\n",
    "#todo rewrite this, i don't like it.\n",
    "#todo use the define y function to allow it to display temp, voltage and current on the same chart or alternatively use subplots if it works better\n",
    "def plot_3_cycles_cyclenum(df, battery_name, cycle_number, show_temp):\n",
    "    \n",
    "    cycle_data = df[(df['cycle number'] == cycle_number) | (df['cycle number'] == cycle_number + 1) | (df['cycle number'] == cycle_number + 2)]\n",
    "    fig = px.line(cycle_data, x=cycle_data['time/s'], y=cycle_data['Ecell/V'], color='cycle number')\n",
    "    #fig = make_subplots(specs=[[{\"secondary_y\": True}]])\n",
    "    #fig.add_trace(go.Scatter(x=cycle_data['time/s'], y=cycle_data['Ecell/V'], mode='lines', name='Ecell/V'), secondary_y=False)\n",
    "    fig.add_trace(go.Line(x=cycle_data['time/s'], y=cycle_data['I/mA']*0.001, name='I/A'))\n",
    "    #if show_temp == True:\n",
    "    #    fig.add_trace(go.Scatter(x=cycle_data['time/s'], y=cycle_data['Temperature/°C'], mode='lines', name='Temperature/°C'))\n",
    "    fig.update_layout(title=f'Cycle {cycle_number}, {cycle_number+1} and {cycle_number+2} for Battery {battery_name}', xaxis_title='Time (s)')\n",
    "    fig.update_yaxes(title_text=\"Cell Voltage (V)\", secondary_y=False)\n",
    "    fig.update_yaxes(title_text=\"Current (A)\", secondary_y=True)\n",
    "    # I spent a fair few hours here attempting to use an iterative or other method to highlight at what point the cycle number changed.\n",
    "    # This is important, as I need to know exactly how the cycle number was determined to be able to make accurate capacity calculations.\n",
    "    # Then I realised there's a far simpler solution. Just change the colour based on cycle number.\n",
    "    # For a small number of cycles, this is sufficient, but won't work for plotting large cycle counts as you soon run out of distinguishable colours.\n",
    "    # ISSUE: I can't get this working without using plotly express.\n",
    "    # haven't tried the below method but it may work.\n",
    "    #for cycle in df['cycle number'].unique():\n",
    "        #cycle_df = df[df['cycle number'] == cycle]\n",
    "        #fig.add_trace(go.Scatter(\n",
    "        #   x=species_df['[insert plotted value]'],\n",
    "        #   y=species_df['[insert value]'],\n",
    "        #   mode='markers',\n",
    "        #   name=cycle,\n",
    "        #   marker=dict(size=10, symbol='circle'),\n",
    "    #))\n",
    "    # alternatively, https://community.plotly.com/t/automatically-pick-colors-when-using-add-trace/59075\n",
    "    fig.show()\n",
    "\n",
    "def plot_3_cycles(df, battery_name, cycle_number, show_temp):\n",
    "    \n",
    "    cycle_data = df[(df['cycle number'] == cycle_number) | (df['cycle number'] == cycle_number + 1) | (df['cycle number'] == cycle_number + 2)]\n",
    "\n",
    "    fig = make_subplots(specs=[[{\"secondary_y\": True}]])\n",
    "    fig.add_trace(go.Scatter(x=cycle_data['time/s'], y=cycle_data['Ecell/V'], name='Ecell/V'), secondary_y=False)\n",
    "    fig.add_trace(go.Scatter(x=cycle_data['time/s'], y=cycle_data['I/mA']*0.001, mode='lines', name='I/A'), secondary_y=True)\n",
    "    if show_temp == True:\n",
    "        fig.add_trace(go.Scatter(x=cycle_data['cycle number'], y=cycle_data['Temperature/°C'], mode='lines', name='Temperature/°C'))\n",
    "    fig.update_layout(title=f'Cycle {cycle_number}, {cycle_number+1} and {cycle_number+2} for Battery {battery_name}', xaxis_title='Time (s)')\n",
    "    fig.update_yaxes(title_text=\"Cell Voltage (V)\", secondary_y=False)\n",
    "    fig.update_yaxes(title_text=\"Current (A)\", secondary_y=True)\n",
    "\n",
    "    fig.show()"
   ]
  },
  {
   "cell_type": "markdown",
   "metadata": {},
   "source": [
    "stuff that'll come in handy later\n",
    "https://towardsdatascience.com/resample-function-of-pandas-79b17ec82a78\n",
    "https://pandas.pydata.org/docs/reference/api/pandas.DataFrame.resample.html\n",
    "blog post on decimating data\n",
    "https://www.geeksforgeeks.org/python-pandas-dataframe-resample/"
   ]
  }
 ],
 "metadata": {
  "kernelspec": {
   "display_name": "Python 3",
   "language": "python",
   "name": "python3"
  },
  "language_info": {
   "codemirror_mode": {
    "name": "ipython",
    "version": 3
   },
   "file_extension": ".py",
   "mimetype": "text/x-python",
   "name": "python",
   "nbconvert_exporter": "python",
   "pygments_lexer": "ipython3",
   "version": "3.11.7"
  }
 },
 "nbformat": 4,
 "nbformat_minor": 2
}
