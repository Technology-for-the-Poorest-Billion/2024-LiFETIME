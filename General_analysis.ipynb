{
 "cells": [
  {
   "cell_type": "markdown",
   "metadata": {},
   "source": [
    "This notebook includes (will include) basic first visualisation of the cycling data.\n",
    "\n",
    "Data parameters:\n",
    "- Time\n",
    "- Cell potential (V)\n",
    "- Current (mA)\n",
    "- Temperature\n",
    "- Cycle #"
   ]
  },
  {
   "cell_type": "code",
   "execution_count": 33,
   "metadata": {},
   "outputs": [],
   "source": [
    "import pandas as pd\n",
    "import os\n",
    "import numpy as np\n",
    "import plotly.graph_objects as go"
   ]
  },
  {
   "cell_type": "code",
   "execution_count": 34,
   "metadata": {},
   "outputs": [],
   "source": [
    "#Get data into data frames\n",
    "\n",
    "file_paths = [\n",
    "    ('Data/NX001/A3_NX001_2108_CA4.txt'),\n",
    "    ('Data/NX001/A3_NX001_3107_CA4.txt'),\n",
    "    ('Data/NX002/A5_NX002_2108_CA5.txt'),\n",
    "    ('Data/NX002/A5_NX002_3107_CA5.txt'),\n",
    "    ('Data/NX006/A3_NX006_2108_CA3.txt'),\n",
    "    ('Data/NX006/A3_NX006_3107_CA3.txt'),\n",
    "    ('Data/RS001/A1_RS001_2108_CA1.txt'),\n",
    "    ('Data/RS001/A1_RS001_3107_CA1.txt'),\n",
    "    ('Data/RS006/A1_RS006_2108_CA2.txt'),\n",
    "    ('Data/RS006/A1_RS006_3107_CA2.txt')\n",
    "]\n",
    "\n",
    "all_data = []\n",
    "\n",
    "for file_path in file_paths:\n",
    "    columns = ['time/s', 'Ecell/V', 'I/mA', 'Temperature/°C', 'cycle number']\n",
    "\n",
    "    df = pd.read_csv(file_path, sep='\\t', usecols=columns, encoding='ISO-8859-1')\n",
    "    battery_name = '_'.join(os.path.basename(file_path).split('_')[-3:-1])\n",
    "    all_data.append((df,battery_name))\n",
    "\n",
    "df_NX001_2108, battery_name_NX001_2108 = all_data[0]\n",
    "df_NX001_3107, battery_name_NX001_2401 = all_data[1]\n",
    "df_NX002_2108, battery_name_NX002_2108 = all_data[2]\n",
    "df_NX002_3107, battery_name_NX002_2108 = all_data[3]\n",
    "df_NX006_2108, battery_name_NX006_2108 = all_data[4]\n",
    "df_NX006_3107, battery_name_NX006_2401 = all_data[5]\n",
    "df_RS001_2108, battery_name_RS001_2108 = all_data[6]\n",
    "df_RS001_3107, battery_name_RS001_2108 = all_data[7]\n",
    "df_RS006_2108, battery_name_RS006_2108 = all_data[8]\n",
    "df_RS006_3107, battery_name_RS006_2401 = all_data[9]"
   ]
  },
  {
   "cell_type": "code",
   "execution_count": 35,
   "metadata": {},
   "outputs": [],
   "source": [
    "def plot_cycle(df, battery_name, cycle_number):\n",
    "    \n",
    "    cycle_data = df[df['cycle number'] == cycle_number]\n",
    "\n",
    "    fig = go.Figure()\n",
    "    fig.add_trace(go.Scatter(x=cycle_data['time/s'], y=cycle_data['Ecell/V'], mode='lines', name='Ecell/V'))\n",
    "    fig.add_trace(go.Scatter(x=cycle_data['time/s'], y=cycle_data['I/mA'], mode='lines', name='I/mA'))\n",
    "    fig.add_trace(go.Scatter(x=cycle_data['time/s'], y=cycle_data['Temperature/°C'], mode='lines', name='Temperature/°C'))\n",
    "\n",
    "    fig.update_layout(title=f'Cycle {cycle_number} for Battery {battery_name}', xaxis_title='Time (s)', yaxis_title='Value')\n",
    "\n",
    "    fig.show()\n",
    "\n",
    "    fig.update_layout(\n",
    "        title=f'Cycle {cycle_number} for Battery {battery_name}',\n",
    "        xaxis_title='Time (s)',\n",
    "        yaxis_title='Value',\n",
    "        template='plotly_white'\n",
    "    )\n",
    "\n",
    "    fig.show()\n"
   ]
  },
  {
   "cell_type": "code",
   "execution_count": 36,
   "metadata": {},
   "outputs": [],
   "source": [
    "for df, battery_name in all_data:\n",
    "    plot_cycle(df, battery_name, 1)"
   ]
  },
  {
   "cell_type": "markdown",
   "metadata": {},
   "source": [
    "### Capacity\n",
    "Calculate the capacity by ompute the time interval between successive measurements, and then integrate the current wrt to time. I've used `numpy.trapz` trapezoidal rule mathematical function."
   ]
  },
  {
   "cell_type": "code",
   "execution_count": 37,
   "metadata": {},
   "outputs": [],
   "source": [
    "#Calculate capacity and add a column to the original df\n",
    "\n",
    "def add_capacity(df):\n",
    "    grouped = df.groupby('cycle number')\n",
    "    capacities = []\n",
    "\n",
    "    for cycle, group in grouped:\n",
    "        times = group['time/s'].values\n",
    "        currents = group['I/mA'].values\n",
    "        \n",
    "        charge = np.trapz(currents, times)\n",
    "        capacity_mAh = charge / 3600.0\n",
    "        capacities.append((cycle, capacity_mAh))\n",
    "    \n",
    "    capacity_df = pd.DataFrame(capacities, columns=['cycle number', 'capacity/mAh'])\n",
    "    df = df.merge(capacity_df, on='cycle number', how='left')\n",
    "    \n",
    "    return df\n"
   ]
  },
  {
   "cell_type": "code",
   "execution_count": 38,
   "metadata": {},
   "outputs": [],
   "source": [
    "all_data_c = []\n",
    "\n",
    "for df, battery_name in all_data:\n",
    "    df = add_capacity(df)\n",
    "    all_data_c.append((df,battery_name))\n"
   ]
  },
  {
   "cell_type": "markdown",
   "metadata": {},
   "source": [
    "## Plotting capacity against cycles"
   ]
  },
  {
   "cell_type": "code",
   "execution_count": null,
   "metadata": {},
   "outputs": [],
   "source": [
    "for df, battery_name in all_data_c:\n",
    "    fig = go.Figure()\n",
    "    fig.add_trace(go.Scatter(x=df['cycle number'], y=df['capacity/mAh'], mode='lines+markers', name=battery_name))\n",
    "    fig.update_layout(title=f'Battery Capacity Against Number of Cycles for Battery {battery_name}',\n",
    "                      xaxis_title='Cycle Number',\n",
    "                      yaxis_title='Capacity (mAh)')\n",
    "    fig.show()"
   ]
  },
  {
   "cell_type": "code",
   "execution_count": 39,
   "metadata": {},
   "outputs": [],
   "source": [
    "#Don't use these fns... too slow\n",
    "\n",
    "def resample(df, time_column, rule):\n",
    "    df[time_column] = pd.to_datetime(df[time_column], unit='s')\n",
    "    return df.resample(rule, on=time_column).mean().reset_index()\n",
    "\n",
    "def plot_all_cycles(df, battery_name):\n",
    "    #sample the data as otherwise it takes forever to plot\n",
    "\n",
    "    df_sampled = resample(df, 'time/s', '30s')\n",
    "    fig = go.Figure()\n",
    "\n",
    "    fig.add_trace(go.Scatter(x=df['time/s'], y=df_sampled['Ecell/V'], mode='lines', name='Ecell/V'))\n",
    "    fig.add_trace(go.Scatter(x=df['time/s'], y=df_sampled['I/mA'], mode='lines', name='I/mA'))\n",
    "    fig.add_trace(go.Scatter(x=df['time/s'], y=df_sampled['Temperature/°C'], mode='lines', name='Temperature/°C'))\n",
    "\n",
    "    cycles = df['cycle number'].unique()\n",
    "\n",
    "    # Add shaded areas for each cycle\n",
    "    for cycle in cycles:\n",
    "        cycle_data = df[df['cycle number'] == cycle]\n",
    "        cycle_start = cycle_data['time/s'].min()\n",
    "        cycle_end = cycle_data['time/s'].max()\n",
    "\n",
    "        fig.add_shape(\n",
    "            type='rect',\n",
    "            x0=cycle_start,\n",
    "            x1=cycle_end,\n",
    "            y0=0,\n",
    "            y1=1, \n",
    "            yref='paper',\n",
    "            fillcolor='LightSlateGrey' if cycle % 2 == 0 else 'LightSkyBlue',\n",
    "            opacity=0.3,\n",
    "            line_width=0,\n",
    "        )\n",
    "\n",
    "    # Customize layout\n",
    "    fig.update_layout(\n",
    "        title=f'Battery {battery_name}',\n",
    "        xaxis_title='Time (s)',\n",
    "        yaxis_title='Value',\n",
    "        template='plotly_white',\n",
    "        shapes=[],\n",
    "    )\n",
    "\n",
    "    # Show the plot\n",
    "    fig.show()"
   ]
  }
 ],
 "metadata": {
  "kernelspec": {
   "display_name": "Python 3",
   "language": "python",
   "name": "python3"
  },
  "language_info": {
   "codemirror_mode": {
    "name": "ipython",
    "version": 3
   },
   "file_extension": ".py",
   "mimetype": "text/x-python",
   "name": "python",
   "nbconvert_exporter": "python",
   "pygments_lexer": "ipython3",
   "version": "3.10.13"
  }
 },
 "nbformat": 4,
 "nbformat_minor": 2
}
